{
 "cells": [
  {
   "cell_type": "code",
   "execution_count": 3,
   "metadata": {},
   "outputs": [
    {
     "name": "stdout",
     "output_type": "stream",
     "text": [
      "a is not prime number\n",
      "a can be divided by [3, 5]\n"
     ]
    }
   ],
   "source": [
    "a = 15\n",
    "b = []\n",
    "\n",
    "for i in range(2,a-1):\n",
    "    if a % i == 0:\n",
    "        b.append(i)\n",
    "if len(b) == 0:\n",
    "    print('a is a prime number')\n",
    "\n",
    "else:\n",
    "    print('a is not prime number')\n",
    "    print('a can be divided by',b)"
   ]
  },
  {
   "cell_type": "code",
   "execution_count": null,
   "metadata": {},
   "outputs": [],
   "source": []
  }
 ],
 "metadata": {
  "kernelspec": {
   "display_name": "Python 3",
   "language": "python",
   "name": "python3"
  },
  "language_info": {
   "codemirror_mode": {
    "name": "ipython",
    "version": 3
   },
   "file_extension": ".py",
   "mimetype": "text/x-python",
   "name": "python",
   "nbconvert_exporter": "python",
   "pygments_lexer": "ipython3",
   "version": "3.8.3"
  }
 },
 "nbformat": 4,
 "nbformat_minor": 4
}
