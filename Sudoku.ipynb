{
 "cells": [
  {
   "cell_type": "markdown",
   "metadata": {},
   "source": [
    "# Recursive algorithm training"
   ]
  },
  {
   "cell_type": "markdown",
   "metadata": {},
   "source": [
    "# 3x3 sudoku"
   ]
  },
  {
   "cell_type": "code",
   "execution_count": 12,
   "metadata": {},
   "outputs": [],
   "source": [
    "import numpy as np\n",
    "a = np.matrix([[1,3,0],[0,2,1],[0,0,0]])"
   ]
  },
  {
   "cell_type": "code",
   "execution_count": 13,
   "metadata": {},
   "outputs": [
    {
     "name": "stdout",
     "output_type": "stream",
     "text": [
      "[[1 3 0]\n",
      " [0 2 1]\n",
      " [0 0 0]]\n"
     ]
    }
   ],
   "source": [
    "print(a)"
   ]
  },
  {
   "cell_type": "code",
   "execution_count": 14,
   "metadata": {},
   "outputs": [],
   "source": [
    "list = [i for i in range(1,len(a)+1)]\n",
    "# possible = []\n",
    "b = np.zeros((len(a),len(a)))\n",
    "\n",
    "def solve(a):\n",
    "    solved =True\n",
    "    for i in range(len(a)):\n",
    "        for j in range(len(a)):\n",
    "            if a[i,j]==0:\n",
    "                maybe = [x for x in list if x not in a[i,:] and x not in a[:,j]]\n",
    "#                 possible.append(maybe)\n",
    "                if len(maybe)==1:\n",
    "                    b[i,j] = maybe[0]\n",
    "                else:\n",
    "                    solved = False\n",
    "            else:\n",
    "                b[i,j] = a[i,j]\n",
    "#                 possible.append([])\n",
    "    if solved == False:\n",
    "        solve(b)\n",
    "    else:\n",
    "        return b\n",
    "    return b"
   ]
  },
  {
   "cell_type": "code",
   "execution_count": 15,
   "metadata": {},
   "outputs": [
    {
     "data": {
      "text/plain": [
       "array([[1., 3., 2.],\n",
       "       [3., 2., 1.],\n",
       "       [2., 1., 3.]])"
      ]
     },
     "execution_count": 15,
     "metadata": {},
     "output_type": "execute_result"
    }
   ],
   "source": [
    "solve(a)"
   ]
  },
  {
   "cell_type": "markdown",
   "metadata": {},
   "source": [
    "# 4x4 Sudoku"
   ]
  },
  {
   "cell_type": "code",
   "execution_count": 16,
   "metadata": {},
   "outputs": [],
   "source": [
    "a = np.matrix([[0,0,3,0],[0,1,0,0],[2,0,0,3],[0,0,0,4]])"
   ]
  },
  {
   "cell_type": "code",
   "execution_count": 17,
   "metadata": {},
   "outputs": [
    {
     "name": "stdout",
     "output_type": "stream",
     "text": [
      "[[0 0 3 0]\n",
      " [0 1 0 0]\n",
      " [2 0 0 3]\n",
      " [0 0 0 4]]\n"
     ]
    }
   ],
   "source": [
    "print(a)"
   ]
  },
  {
   "cell_type": "code",
   "execution_count": 18,
   "metadata": {},
   "outputs": [],
   "source": [
    "list = [i for i in range(1,len(a)+1)]\n",
    "# possible = []\n",
    "b = np.zeros((len(a),len(a)))\n",
    "\n",
    "def checkgrid(a,i,j):\n",
    "    if (i<2) and (j<2):\n",
    "        m,n = [0,1],[0,1]\n",
    "    if (i<2) and (j>1):\n",
    "        m,n = [0,1],[2,3]\n",
    "    if (i>1) and (j<2):\n",
    "        m,n = [2,3],[0,1]\n",
    "    if (i>1) and (j>1):\n",
    "        m,n = [2,3],[2,3]\n",
    "    grid=[]\n",
    "    for k in m:\n",
    "        for l in n:\n",
    "            grid.append(a[k,l])\n",
    "    return grid\n",
    "\n",
    "def solve4x4(a):\n",
    "    solved =True\n",
    "    for i in range(len(a)):\n",
    "        for j in range(len(a)):\n",
    "            if a[i,j]==0:\n",
    "                grid = checkgrid(a,i,j)\n",
    "                maybe = [x for x in list if x not in a[i,:] and x not in a[:,j] and x not in grid]\n",
    "#                 possible.append(maybe)\n",
    "                if len(maybe)==1:\n",
    "                    b[i,j] = maybe[0]\n",
    "                else:\n",
    "                    solved = False\n",
    "            else:\n",
    "                b[i,j] = a[i,j]\n",
    "#                 possible.append([])\n",
    "    if solved == False:\n",
    "        solve4x4(b)\n",
    "    else:\n",
    "        return b\n",
    "    return b"
   ]
  },
  {
   "cell_type": "code",
   "execution_count": 19,
   "metadata": {},
   "outputs": [
    {
     "name": "stdout",
     "output_type": "stream",
     "text": [
      "[[4. 2. 3. 1.]\n",
      " [3. 1. 4. 2.]\n",
      " [2. 4. 1. 3.]\n",
      " [1. 3. 2. 4.]]\n"
     ]
    }
   ],
   "source": [
    "b=solve4x4(a)\n",
    "print(b)\n",
    "# print(possible)"
   ]
  },
  {
   "cell_type": "markdown",
   "metadata": {},
   "source": [
    "# 9x9 sudoku"
   ]
  },
  {
   "cell_type": "code",
   "execution_count": 21,
   "metadata": {},
   "outputs": [],
   "source": [
    "import numpy as np\n",
    "#a = np.matrix([[5,1,7,6,0,0,0,3,4],[2,8,9,0,0,4,0,0,0],[3,4,6,2,0,5,0,9,0],[6,0,2,0,0,0,0,1,0],[0,3,8,0,0,6,0,4,7],[0,0,0,0,0,0,0,0,0],[0,9,0,0,0,0,0,7,8],[7,0,3,4,0,0,5,6,0],[0,0,0,0,0,0,0,0,0]])\n",
    "a = np.matrix([[5,3,0,0,7,0,0,0,0],[6,0,0,1,9,5,0,0,0],[0,9,8,0,0,0,0,6,0],[8,0,0,0,6,0,0,0,3],[4,0,0,8,0,3,0,0,1],[7,0,0,0,2,0,0,0,6],[0,6,0,0,0,0,2,8,0],[0,0,0,4,1,9,0,0,5],[0,0,0,0,8,0,0,7,9]])"
   ]
  },
  {
   "cell_type": "code",
   "execution_count": 22,
   "metadata": {},
   "outputs": [
    {
     "name": "stdout",
     "output_type": "stream",
     "text": [
      "[[5 3 0 0 7 0 0 0 0]\n",
      " [6 0 0 1 9 5 0 0 0]\n",
      " [0 9 8 0 0 0 0 6 0]\n",
      " [8 0 0 0 6 0 0 0 3]\n",
      " [4 0 0 8 0 3 0 0 1]\n",
      " [7 0 0 0 2 0 0 0 6]\n",
      " [0 6 0 0 0 0 2 8 0]\n",
      " [0 0 0 4 1 9 0 0 5]\n",
      " [0 0 0 0 8 0 0 7 9]]\n"
     ]
    }
   ],
   "source": [
    "print(a)"
   ]
  },
  {
   "cell_type": "code",
   "execution_count": 23,
   "metadata": {},
   "outputs": [],
   "source": [
    "# make output matrix\n",
    "b = np.zeros((len(a),len(a))) # 9x9 matrix of zeros\n",
    "\n",
    "def solve9x9(a):\n",
    "    \"\"\"\n",
    "    main program\n",
    "    \n",
    "    \"\"\"\n",
    "    solved = True  # variable explaining puzzle condition. if\n",
    "                   # there is one cell containing more than one\n",
    "                   # possible number, this variable will be \"False\"\n",
    "            \n",
    "    \n",
    "    # call is_Solved function to check whether the puzzle is solved\n",
    "    b,solved = is_Solved(a,solved)\n",
    "    \n",
    "    # if the puzzle has not been solved, then the function calls\n",
    "    # itself to solve the puzzle recursively using updated puzzle\n",
    "    if solved == False:\n",
    "        solve9x9(b)\n",
    "        \n",
    "    # if the puzzle is solved, return the output\n",
    "    else:\n",
    "        return b\n",
    "    return b\n",
    "    \n",
    "\n",
    "def is_Solved(a,solved):\n",
    "    \"\"\"\n",
    "    function to fill and check whether the puzzle has been solved\n",
    "    \n",
    "    \"\"\"\n",
    "\n",
    "    # check every cell in input matrix\n",
    "    for i in range(len(a)):\n",
    "        for j in range(len(a)):\n",
    "            \n",
    "            # if cell is empty, we will find the possible number\n",
    "            if a[i,j]==0:\n",
    "                # make array of possible number\n",
    "                possiblenum = getpossiblenum(a,i,j) \n",
    "                \n",
    "                # if there is only one possible number, fill the output\n",
    "                if len(possiblenum)==1:\n",
    "                    b[i,j] = possiblenum[0] \n",
    "                                            \n",
    "                # if possible number > 1, puzzle is not solved         \n",
    "                else:\n",
    "                    solved = False\n",
    "            \n",
    "            # if cell contains number, fill output with that number\n",
    "            else:\n",
    "                b[i,j] = a[i,j]\n",
    "                \n",
    "    return b,solved\n",
    "\n",
    "def getpossiblenum(a,i,j):\n",
    "    \"\"\"\n",
    "    function to make an array of possible number(s) of one cell.\n",
    "    \n",
    "    \"\"\"\n",
    "    \n",
    "    # get grid location based on i and j\n",
    "    if (i<3) and (j<3):\n",
    "        m,n = [0,1,2],[0,1,2]\n",
    "    if (2<i<6) and (j<3):\n",
    "        m,n = [3,4,5],[0,1,2]\n",
    "    if (5<i<9) and (j<3):\n",
    "        m,n = [6,7,8],[0,1,2]\n",
    "        \n",
    "    if (i<3) and (2<j<6):\n",
    "        m,n = [0,1,2],[3,4,5]\n",
    "    if (2<i<6) and (2<j<6):\n",
    "        m,n = [3,4,5],[3,4,5]\n",
    "    if (5<i<9) and (2<j<6):\n",
    "        m,n = [6,7,8],[3,4,5]\n",
    "        \n",
    "    if (i<3) and (5<j<9):\n",
    "        m,n = [0,1,2],[6,7,8]\n",
    "    if (2<i<6) and (5<j<9):\n",
    "        m,n = [3,4,5],[6,7,8]\n",
    "    if (5<i<9) and (5<j<9):\n",
    "        m,n = [6,7,8],[6,7,8]\n",
    "        \n",
    "    # fill the grid array with all number in respective grid\n",
    "    grid=[]\n",
    "    for k in m:\n",
    "        for l in n:\n",
    "            grid.append(a[k,l])\n",
    "    \n",
    "    # assign necessary variable\n",
    "    list = [i for i in range(1,len(a)+1)] # array of number 1-9\n",
    "    \n",
    "    # Make array consisting all possible numbers in one cell.\n",
    "    # Criteria : number in range 1-9 which is not present in \n",
    "    # grid array, horizontal, and vertical lines\n",
    "    possiblenum = [x for x in list if x not in a[i,:] \n",
    "                   and x not in a[:,j] and x not in grid]        \n",
    "    \n",
    "    return possiblenum\n",
    "\n"
   ]
  },
  {
   "cell_type": "code",
   "execution_count": 24,
   "metadata": {},
   "outputs": [
    {
     "name": "stdout",
     "output_type": "stream",
     "text": [
      "[[5. 3. 4. 6. 7. 8. 9. 1. 2.]\n",
      " [6. 7. 2. 1. 9. 5. 3. 4. 8.]\n",
      " [1. 9. 8. 3. 4. 2. 5. 6. 7.]\n",
      " [8. 5. 9. 7. 6. 1. 4. 2. 3.]\n",
      " [4. 2. 6. 8. 5. 3. 7. 9. 1.]\n",
      " [7. 1. 3. 9. 2. 4. 8. 5. 6.]\n",
      " [9. 6. 1. 5. 3. 7. 2. 8. 4.]\n",
      " [2. 8. 7. 4. 1. 9. 6. 3. 5.]\n",
      " [3. 4. 5. 2. 8. 6. 1. 7. 9.]]\n"
     ]
    }
   ],
   "source": [
    "b=solve9x9(a)\n",
    "print(b)"
   ]
  },
  {
   "cell_type": "code",
   "execution_count": null,
   "metadata": {},
   "outputs": [],
   "source": []
  }
 ],
 "metadata": {
  "kernelspec": {
   "display_name": "Python 3",
   "language": "python",
   "name": "python3"
  },
  "language_info": {
   "codemirror_mode": {
    "name": "ipython",
    "version": 3
   },
   "file_extension": ".py",
   "mimetype": "text/x-python",
   "name": "python",
   "nbconvert_exporter": "python",
   "pygments_lexer": "ipython3",
   "version": "3.8.3"
  }
 },
 "nbformat": 4,
 "nbformat_minor": 4
}
